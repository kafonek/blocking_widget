{
 "cells": [
  {
   "cell_type": "markdown",
   "metadata": {},
   "source": [
    "This is a 'parameterized' notebook designed to be run within the Papermill framework.  The second cell (`label = 'versicolor'`) is tagged with 'parameters' and will get overwritten when the Runner notebook executes this template.\n",
    "\n",
    "Using Papermill ends up being one work-around to the \"blocking widget\" problem beause the \"runner\" notebook offers a GUI like interface and each of the output notebooks is clean and synchronous.  The downside is that the results are split among different notebooks -- that is not always bad, but may be inconvenient in some situations."
   ]
  },
  {
   "cell_type": "code",
   "execution_count": 1,
   "metadata": {},
   "outputs": [],
   "source": [
    "from demo_utils import get_data"
   ]
  },
  {
   "cell_type": "code",
   "execution_count": 2,
   "metadata": {
    "tags": [
     "parameters"
    ]
   },
   "outputs": [],
   "source": [
    "label = 'versicolor'"
   ]
  },
  {
   "cell_type": "code",
   "execution_count": 4,
   "metadata": {},
   "outputs": [
    {
     "data": {
      "text/html": [
       "<div>\n",
       "<style scoped>\n",
       "    .dataframe tbody tr th:only-of-type {\n",
       "        vertical-align: middle;\n",
       "    }\n",
       "\n",
       "    .dataframe tbody tr th {\n",
       "        vertical-align: top;\n",
       "    }\n",
       "\n",
       "    .dataframe thead th {\n",
       "        text-align: right;\n",
       "    }\n",
       "</style>\n",
       "<table border=\"1\" class=\"dataframe\">\n",
       "  <thead>\n",
       "    <tr style=\"text-align: right;\">\n",
       "      <th></th>\n",
       "      <th>sepal length (cm)</th>\n",
       "      <th>sepal width (cm)</th>\n",
       "      <th>petal length (cm)</th>\n",
       "      <th>petal width (cm)</th>\n",
       "      <th>label</th>\n",
       "    </tr>\n",
       "  </thead>\n",
       "  <tbody>\n",
       "    <tr>\n",
       "      <th>50</th>\n",
       "      <td>7.0</td>\n",
       "      <td>3.2</td>\n",
       "      <td>4.7</td>\n",
       "      <td>1.4</td>\n",
       "      <td>versicolor</td>\n",
       "    </tr>\n",
       "    <tr>\n",
       "      <th>51</th>\n",
       "      <td>6.4</td>\n",
       "      <td>3.2</td>\n",
       "      <td>4.5</td>\n",
       "      <td>1.5</td>\n",
       "      <td>versicolor</td>\n",
       "    </tr>\n",
       "    <tr>\n",
       "      <th>52</th>\n",
       "      <td>6.9</td>\n",
       "      <td>3.1</td>\n",
       "      <td>4.9</td>\n",
       "      <td>1.5</td>\n",
       "      <td>versicolor</td>\n",
       "    </tr>\n",
       "    <tr>\n",
       "      <th>53</th>\n",
       "      <td>5.5</td>\n",
       "      <td>2.3</td>\n",
       "      <td>4.0</td>\n",
       "      <td>1.3</td>\n",
       "      <td>versicolor</td>\n",
       "    </tr>\n",
       "    <tr>\n",
       "      <th>54</th>\n",
       "      <td>6.5</td>\n",
       "      <td>2.8</td>\n",
       "      <td>4.6</td>\n",
       "      <td>1.5</td>\n",
       "      <td>versicolor</td>\n",
       "    </tr>\n",
       "  </tbody>\n",
       "</table>\n",
       "</div>"
      ],
      "text/plain": [
       "    sepal length (cm)  sepal width (cm)  petal length (cm)  petal width (cm)  \\\n",
       "50                7.0               3.2                4.7               1.4   \n",
       "51                6.4               3.2                4.5               1.5   \n",
       "52                6.9               3.1                4.9               1.5   \n",
       "53                5.5               2.3                4.0               1.3   \n",
       "54                6.5               2.8                4.6               1.5   \n",
       "\n",
       "         label  \n",
       "50  versicolor  \n",
       "51  versicolor  \n",
       "52  versicolor  \n",
       "53  versicolor  \n",
       "54  versicolor  "
      ]
     },
     "execution_count": 4,
     "metadata": {},
     "output_type": "execute_result"
    }
   ],
   "source": [
    "df = get_data(label)\n",
    "df.head()"
   ]
  },
  {
   "cell_type": "code",
   "execution_count": 5,
   "metadata": {},
   "outputs": [
    {
     "data": {
      "text/plain": [
       "sepal length (cm)    5.936\n",
       "sepal width (cm)     2.770\n",
       "petal length (cm)    4.260\n",
       "petal width (cm)     1.326\n",
       "dtype: float64"
      ]
     },
     "execution_count": 5,
     "metadata": {},
     "output_type": "execute_result"
    }
   ],
   "source": [
    "df.aggregate('mean')"
   ]
  },
  {
   "cell_type": "code",
   "execution_count": 6,
   "metadata": {},
   "outputs": [
    {
     "name": "stdout",
     "output_type": "stream",
     "text": [
      "Collecting papermill\n",
      "  Downloading https://files.pythonhosted.org/packages/f2/a9/cef51e9846ca6c84771ec8e20057e099435eb332a5414538bb3c6bf9900c/papermill-0.14.2-py2.py3-none-any.whl\n",
      "Collecting future (from papermill)\n",
      "  Downloading https://files.pythonhosted.org/packages/00/2b/8d082ddfed935f3608cc61140df6dcbf0edea1bc3ab52fb6c29ae3e81e85/future-0.16.0.tar.gz (824kB)\n",
      "Collecting pyyaml (from papermill)\n",
      "  Downloading https://files.pythonhosted.org/packages/4f/ca/5fad249c5032270540c24d2189b0ddf1396aac49b0bdc548162edcf14131/PyYAML-3.13-cp36-cp36m-win_amd64.whl (206kB)\n",
      "Requirement already satisfied: jupyter-client in c:\\users\\kafon\\anaconda3\\envs\\py36\\lib\\site-packages (from papermill) (5.2.3)\n",
      "Collecting ansiwrap (from papermill)\n",
      "  Downloading https://files.pythonhosted.org/packages/e7/99/aa9e375148c9a03bc7d76eb60993eaf2a04fcaf804f3547c4ca6bdeaef28/ansiwrap-0.8.3-py2.py3-none-any.whl\n",
      "Requirement already satisfied: click in c:\\users\\kafon\\anaconda3\\envs\\py36\\lib\\site-packages (from papermill) (6.7)\n",
      "Requirement already satisfied: ipython>=5.0 in c:\\users\\kafon\\anaconda3\\envs\\py36\\lib\\site-packages (from papermill) (6.5.0)\n",
      "Collecting boto3 (from papermill)\n",
      "  Downloading https://files.pythonhosted.org/packages/d6/bc/5393e095b03e871055efae27bac7d314c7f62ab05fea098441052c2afdbb/boto3-1.8.1-py2.py3-none-any.whl (128kB)\n",
      "Requirement already satisfied: six in c:\\users\\kafon\\anaconda3\\envs\\py36\\lib\\site-packages (from papermill) (1.11.0)\n",
      "Collecting requests (from papermill)\n",
      "  Downloading https://files.pythonhosted.org/packages/65/47/7e02164a2a3db50ed6d8a6ab1d6d60b69c4c3fdf57a284257925dfc12bda/requests-2.19.1-py2.py3-none-any.whl (91kB)\n",
      "Requirement already satisfied: nbformat in c:\\users\\kafon\\anaconda3\\envs\\py36\\lib\\site-packages (from papermill) (4.4.0)\n",
      "Requirement already satisfied: pandas in c:\\users\\kafon\\anaconda3\\envs\\py36\\lib\\site-packages (from papermill) (0.23.4)\n",
      "Collecting tqdm (from papermill)\n",
      "  Downloading https://files.pythonhosted.org/packages/c7/e0/52b2faaef4fd87f86eb8a8f1afa2cd6eb11146822033e29c04ac48ada32c/tqdm-4.25.0-py2.py3-none-any.whl (43kB)\n",
      "Requirement already satisfied: nbconvert in c:\\users\\kafon\\anaconda3\\envs\\py36\\lib\\site-packages (from papermill) (5.3.1)\n",
      "Requirement already satisfied: traitlets in c:\\users\\kafon\\anaconda3\\envs\\py36\\lib\\site-packages (from jupyter-client->papermill) (4.3.2)\n",
      "Requirement already satisfied: jupyter_core in c:\\users\\kafon\\anaconda3\\envs\\py36\\lib\\site-packages (from jupyter-client->papermill) (4.4.0)\n",
      "Requirement already satisfied: pyzmq>=13 in c:\\users\\kafon\\anaconda3\\envs\\py36\\lib\\site-packages (from jupyter-client->papermill) (17.1.2)\n",
      "Requirement already satisfied: python-dateutil>=2.1 in c:\\users\\kafon\\anaconda3\\envs\\py36\\lib\\site-packages (from jupyter-client->papermill) (2.7.3)\n",
      "Requirement already satisfied: tornado>=4.1 in c:\\users\\kafon\\anaconda3\\envs\\py36\\lib\\site-packages (from jupyter-client->papermill) (5.1)\n",
      "Collecting textwrap3 (from ansiwrap->papermill)\n",
      "  Downloading https://files.pythonhosted.org/packages/e8/78/3bb4b819ae7ab81ba0759788b28671d7ae13186544c333f973e6c91a6726/textwrap3-0.9.1-py2.py3-none-any.whl\n",
      "Requirement already satisfied: pygments in c:\\users\\kafon\\anaconda3\\envs\\py36\\lib\\site-packages (from ipython>=5.0->papermill) (2.2.0)\n",
      "Requirement already satisfied: decorator in c:\\users\\kafon\\anaconda3\\envs\\py36\\lib\\site-packages (from ipython>=5.0->papermill) (4.3.0)\n",
      "Requirement already satisfied: colorama; sys_platform == \"win32\" in c:\\users\\kafon\\anaconda3\\envs\\py36\\lib\\site-packages (from ipython>=5.0->papermill) (0.3.9)\n",
      "Requirement already satisfied: prompt-toolkit<2.0.0,>=1.0.15 in c:\\users\\kafon\\anaconda3\\envs\\py36\\lib\\site-packages (from ipython>=5.0->papermill) (1.0.15)\n",
      "Requirement already satisfied: setuptools>=18.5 in c:\\users\\kafon\\anaconda3\\envs\\py36\\lib\\site-packages (from ipython>=5.0->papermill) (40.0.0)\n",
      "Requirement already satisfied: backcall in c:\\users\\kafon\\anaconda3\\envs\\py36\\lib\\site-packages (from ipython>=5.0->papermill) (0.1.0)\n",
      "Requirement already satisfied: simplegeneric>0.8 in c:\\users\\kafon\\anaconda3\\envs\\py36\\lib\\site-packages (from ipython>=5.0->papermill) (0.8.1)\n",
      "Requirement already satisfied: jedi>=0.10 in c:\\users\\kafon\\anaconda3\\envs\\py36\\lib\\site-packages (from ipython>=5.0->papermill) (0.12.1)\n",
      "Requirement already satisfied: pickleshare in c:\\users\\kafon\\anaconda3\\envs\\py36\\lib\\site-packages (from ipython>=5.0->papermill) (0.7.4)\n",
      "Collecting jmespath<1.0.0,>=0.7.1 (from boto3->papermill)\n",
      "  Downloading https://files.pythonhosted.org/packages/b7/31/05c8d001f7f87f0f07289a5fc0fc3832e9a57f2dbd4d3b0fee70e0d51365/jmespath-0.9.3-py2.py3-none-any.whl\n",
      "Collecting botocore<1.12.0,>=1.11.1 (from boto3->papermill)\n",
      "  Downloading https://files.pythonhosted.org/packages/53/fe/eb019c3d0fecc26680f025af10f3f026c33b61fda6c349de931e589ffa80/botocore-1.11.1-py2.py3-none-any.whl (4.6MB)\n",
      "Collecting s3transfer<0.2.0,>=0.1.10 (from boto3->papermill)\n",
      "  Downloading https://files.pythonhosted.org/packages/d7/14/2a0004d487464d120c9fb85313a75cd3d71a7506955be458eebfe19a6b1d/s3transfer-0.1.13-py2.py3-none-any.whl (59kB)\n",
      "Collecting urllib3<1.24,>=1.21.1 (from requests->papermill)\n",
      "  Downloading https://files.pythonhosted.org/packages/bd/c9/6fdd990019071a4a32a5e7cb78a1d92c53851ef4f56f62a3486e6a7d8ffb/urllib3-1.23-py2.py3-none-any.whl (133kB)\n",
      "Requirement already satisfied: idna<2.8,>=2.5 in c:\\users\\kafon\\anaconda3\\envs\\py36\\lib\\site-packages (from requests->papermill) (2.7)\n",
      "Requirement already satisfied: certifi>=2017.4.17 in c:\\users\\kafon\\anaconda3\\envs\\py36\\lib\\site-packages (from requests->papermill) (2018.8.13)\n",
      "Collecting chardet<3.1.0,>=3.0.2 (from requests->papermill)\n",
      "  Downloading https://files.pythonhosted.org/packages/bc/a9/01ffebfb562e4274b6487b4bb1ddec7ca55ec7510b22e4c51f14098443b8/chardet-3.0.4-py2.py3-none-any.whl (133kB)\n",
      "Requirement already satisfied: ipython_genutils in c:\\users\\kafon\\anaconda3\\envs\\py36\\lib\\site-packages (from nbformat->papermill) (0.2.0)\n",
      "Requirement already satisfied: jsonschema!=2.5.0,>=2.4 in c:\\users\\kafon\\anaconda3\\envs\\py36\\lib\\site-packages (from nbformat->papermill) (2.6.0)\n",
      "Requirement already satisfied: pytz>=2011k in c:\\users\\kafon\\anaconda3\\envs\\py36\\lib\\site-packages (from pandas->papermill) (2018.5)\n",
      "Requirement already satisfied: numpy>=1.9.0 in c:\\users\\kafon\\anaconda3\\envs\\py36\\lib\\site-packages (from pandas->papermill) (1.15.0)\n",
      "Requirement already satisfied: pandocfilters>=1.4.1 in c:\\users\\kafon\\anaconda3\\envs\\py36\\lib\\site-packages (from nbconvert->papermill) (1.4.2)\n",
      "Requirement already satisfied: entrypoints>=0.2.2 in c:\\users\\kafon\\anaconda3\\envs\\py36\\lib\\site-packages (from nbconvert->papermill) (0.2.3)\n",
      "Requirement already satisfied: jinja2 in c:\\users\\kafon\\anaconda3\\envs\\py36\\lib\\site-packages (from nbconvert->papermill) (2.10)\n",
      "Requirement already satisfied: bleach in c:\\users\\kafon\\anaconda3\\envs\\py36\\lib\\site-packages (from nbconvert->papermill) (2.1.3)\n",
      "Requirement already satisfied: mistune>=0.7.4 in c:\\users\\kafon\\anaconda3\\envs\\py36\\lib\\site-packages (from nbconvert->papermill) (0.8.3)\n",
      "Requirement already satisfied: testpath in c:\\users\\kafon\\anaconda3\\envs\\py36\\lib\\site-packages (from nbconvert->papermill) (0.3.1)\n",
      "Requirement already satisfied: wcwidth in c:\\users\\kafon\\anaconda3\\envs\\py36\\lib\\site-packages (from prompt-toolkit<2.0.0,>=1.0.15->ipython>=5.0->papermill) (0.1.7)\n",
      "Requirement already satisfied: parso>=0.3.0 in c:\\users\\kafon\\anaconda3\\envs\\py36\\lib\\site-packages (from jedi>=0.10->ipython>=5.0->papermill) (0.3.1)\n",
      "Collecting docutils>=0.10 (from botocore<1.12.0,>=1.11.1->boto3->papermill)\n",
      "  Downloading https://files.pythonhosted.org/packages/36/fa/08e9e6e0e3cbd1d362c3bbee8d01d0aedb2155c4ac112b19ef3cae8eed8d/docutils-0.14-py3-none-any.whl (543kB)\n",
      "Requirement already satisfied: MarkupSafe>=0.23 in c:\\users\\kafon\\anaconda3\\envs\\py36\\lib\\site-packages (from jinja2->nbconvert->papermill) (1.0)\n",
      "Requirement already satisfied: html5lib!=1.0b1,!=1.0b2,!=1.0b3,!=1.0b4,!=1.0b5,!=1.0b6,!=1.0b7,!=1.0b8,>=0.99999999pre in c:\\users\\kafon\\anaconda3\\envs\\py36\\lib\\site-packages (from bleach->nbconvert->papermill) (1.0.1)\n",
      "Requirement already satisfied: webencodings in c:\\users\\kafon\\anaconda3\\envs\\py36\\lib\\site-packages (from html5lib!=1.0b1,!=1.0b2,!=1.0b3,!=1.0b4,!=1.0b5,!=1.0b6,!=1.0b7,!=1.0b8,>=0.99999999pre->bleach->nbconvert->papermill) (0.5.1)\n",
      "Building wheels for collected packages: future\n",
      "  Running setup.py bdist_wheel for future: started\n",
      "  Running setup.py bdist_wheel for future: finished with status 'done'\n",
      "  Stored in directory: C:\\Users\\kafon\\AppData\\Local\\pip\\Cache\\wheels\\bf\\c9\\a3\\c538d90ef17cf7823fa51fc701a7a7a910a80f6a405bf15b1a\n",
      "Successfully built future\n",
      "Installing collected packages: future, pyyaml, textwrap3, ansiwrap, jmespath, docutils, urllib3, botocore, s3transfer, boto3, chardet, requests, tqdm, papermill\n",
      "Successfully installed ansiwrap-0.8.3 boto3-1.8.1 botocore-1.11.1 chardet-3.0.4 docutils-0.14 future-0.16.0 jmespath-0.9.3 papermill-0.14.2 pyyaml-3.13 requests-2.19.1 s3transfer-0.1.13 textwrap3-0.9.1 tqdm-4.25.0 urllib3-1.23\n"
     ]
    },
    {
     "name": "stderr",
     "output_type": "stream",
     "text": [
      "twisted 18.7.0 requires PyHamcrest>=1.9.0, which is not installed.\n",
      "mkl-random 1.0.1 requires cython, which is not installed.\n",
      "mkl-fft 1.0.4 requires cython, which is not installed.\n",
      "You are using pip version 10.0.1, however version 18.0 is available.\n",
      "You should consider upgrading via the 'python -m pip install --upgrade pip' command.\n"
     ]
    }
   ],
   "source": [
    "!pip install papermill"
   ]
  },
  {
   "cell_type": "code",
   "execution_count": null,
   "metadata": {},
   "outputs": [],
   "source": []
  }
 ],
 "metadata": {
  "kernelspec": {
   "display_name": "Python 3",
   "language": "python",
   "name": "python3"
  },
  "language_info": {
   "codemirror_mode": {
    "name": "ipython",
    "version": 3
   },
   "file_extension": ".py",
   "mimetype": "text/x-python",
   "name": "python",
   "nbconvert_exporter": "python",
   "pygments_lexer": "ipython3",
   "version": "3.6.6"
  }
 },
 "nbformat": 4,
 "nbformat_minor": 2
}
