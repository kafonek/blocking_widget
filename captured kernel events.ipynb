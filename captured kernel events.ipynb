{
 "cells": [
  {
   "cell_type": "code",
   "execution_count": 1,
   "metadata": {},
   "outputs": [],
   "source": [
    "### Run this notebook using cell -> run all\n",
    "### Demo of one solution to 'blocking' until a widget value has changed"
   ]
  },
  {
   "cell_type": "code",
   "execution_count": 2,
   "metadata": {},
   "outputs": [
    {
     "data": {
      "text/plain": [
       "<ipykernel.zmqshell.ZMQInteractiveShell at 0x1f1be776048>"
      ]
     },
     "execution_count": 2,
     "metadata": {},
     "output_type": "execute_result"
    }
   ],
   "source": [
    "shell = get_ipython()\n",
    "shell"
   ]
  },
  {
   "cell_type": "code",
   "execution_count": 3,
   "metadata": {},
   "outputs": [
    {
     "data": {
      "text/plain": [
       "<ipykernel.ipkernel.IPythonKernel at 0x1f1be776898>"
      ]
     },
     "execution_count": 3,
     "metadata": {},
     "output_type": "execute_result"
    }
   ],
   "source": [
    "kernel = shell.kernel\n",
    "kernel"
   ]
  },
  {
   "cell_type": "code",
   "execution_count": 4,
   "metadata": {},
   "outputs": [],
   "source": [
    "captured_events = []\n",
    "\n",
    "def execute_request(stream, ident, parent):\n",
    "    \"Overwrite function to store the stream / ident /parent instead of calling kernel.execute_request\"\n",
    "    \n",
    "    captured_events.append((stream, ident, parent))\n",
    "    \n",
    "def comm_msg(stream, ident, parent):\n",
    "    \"Overwrite function to add a logging (print) msg when comm_msg events come through\"\n",
    "    print(\"in comm_msg\")\n",
    "    print(stream)\n",
    "    print(ident)\n",
    "    print(parent)\n",
    "    return kernel.comm_manager.comm_msg(stream, ident, parent)\n",
    "    \n",
    "def start_capturing():\n",
    "    \"Overwrite the kernel shell handlers\"\n",
    "    kernel.shell_handlers['execute_request'] = execute_request\n",
    "    kernel.shell_handlers['comm_msg'] = comm_msg\n",
    "    \n",
    "def stop_capturing():\n",
    "    \"rever the kernel shell handler functions to their defaults\"\n",
    "    kernel.shell_handlers['execute_request'] = kernel.execute_request\n",
    "    kernel.shell_handlers['comm_msg'] = kernel.comm_manager.comm_msg"
   ]
  },
  {
   "cell_type": "code",
   "execution_count": 8,
   "metadata": {
    "scrolled": true
   },
   "outputs": [
    {
     "data": {
      "application/vnd.jupyter.widget-view+json": {
       "model_id": "c78081bbe7914bc4a5b94b1b64565ecb",
       "version_major": 2,
       "version_minor": 0
      },
      "text/plain": [
       "Dropdown(options=('', 'foo', 'bar'), value='')"
      ]
     },
     "metadata": {},
     "output_type": "display_data"
    },
    {
     "name": "stdout",
     "output_type": "stream",
     "text": [
      "in comm_msg\n",
      "<zmq.eventloop.zmqstream.ZMQStream object at 0x000001F1BE776160>\n",
      "[b'1aeed0a8e4844cc88be1b0d2c2eefcef']\n",
      "{'header': {'msg_id': '3b5a6598ca4e4ce989cd3cb1cf6c4bb4', 'username': 'username', 'session': '1aeed0a8e4844cc88be1b0d2c2eefcef', 'msg_type': 'comm_msg', 'version': '5.2', 'date': datetime.datetime(2018, 8, 25, 18, 45, 18, 508894, tzinfo=tzutc())}, 'msg_id': '3b5a6598ca4e4ce989cd3cb1cf6c4bb4', 'msg_type': 'comm_msg', 'parent_header': {}, 'metadata': {}, 'content': {'comm_id': 'c78081bbe7914bc4a5b94b1b64565ecb', 'data': {'method': 'update', 'state': {'index': 1}, 'buffer_paths': []}}, 'buffers': []}\n"
     ]
    }
   ],
   "source": [
    "# Display a widget and 'block' (don't run execute_request messages) until the widget has changed value\n",
    "import ipywidgets as widgets\n",
    "from IPython.display import display\n",
    "import time\n",
    "\n",
    "w = widgets.Dropdown(options=['', 'foo', 'bar'])\n",
    "\n",
    "start_capturing() # override kernel.shell_handler functions\n",
    "display(w) \n",
    "shell.execution_count += 1\n",
    "\n",
    "while True:\n",
    "    # While this loop is running, all further 'execute_request' messages will get captured\n",
    "    if w.value:\n",
    "        print(\"widget value changed: breaking from loop\")\n",
    "        break # user changed the value\n",
    "    \n",
    "    kernel.do_one_iteration() # same thing an eventloop like %gui asyncio would do\n",
    "    time.sleep(.01)\n",
    "\n",
    "stop_capturing()\n",
    "import sys\n",
    "sys.stdout.flush()\n",
    "### Once the widget value has changed, 'replay' the captured execute_request messages\n",
    "### Unfortunately the output shows up in this cell, not in the cells where the\n",
    "### original input code is at...\n",
    "for stream, ident, parent in captured_events:\n",
    "    kernel.set_parent(ident, parent)\n",
    "    kernel.execute_request(stream, ident, parent)"
   ]
  },
  {
   "cell_type": "code",
   "execution_count": 6,
   "metadata": {},
   "outputs": [
    {
     "name": "stdout",
     "output_type": "stream",
     "text": [
      "widget value changed: breaking from loop\n",
      "foo\n"
     ]
    }
   ],
   "source": [
    "# this should get captured in a cell -> run all (last cell is still running/widget value hasn't changed yet)\n",
    "print(w.value)"
   ]
  },
  {
   "cell_type": "code",
   "execution_count": 7,
   "metadata": {},
   "outputs": [
    {
     "name": "stdout",
     "output_type": "stream",
     "text": [
      "hello world\n"
     ]
    }
   ],
   "source": [
    "# this should get captured in a cell -> run all \n",
    "print(\"hello world\")"
   ]
  }
 ],
 "metadata": {
  "kernelspec": {
   "display_name": "Python 3",
   "language": "python",
   "name": "python3"
  },
  "language_info": {
   "codemirror_mode": {
    "name": "ipython",
    "version": 3
   },
   "file_extension": ".py",
   "mimetype": "text/x-python",
   "name": "python",
   "nbconvert_exporter": "python",
   "pygments_lexer": "ipython3",
   "version": "3.6.6"
  }
 },
 "nbformat": 4,
 "nbformat_minor": 2
}
