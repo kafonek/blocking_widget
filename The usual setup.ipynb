{
 "cells": [
  {
   "cell_type": "markdown",
   "metadata": {},
   "source": [
    "Many (most?) of our real-world workflows involve querying different datasources with input parameters.  In order to make the input parameter prompts friendly and beautiful, we rely heavily on ipywidgets.  Even users who are \"scared of code\" have been eager to engage and utilize notebooks that use Widgets for their user input.\n",
    "\n",
    "In this example, a Widget offers a dropdown of the three labels in the Iris dataset.  When you choose one and hit \"Query\", it'll print the aggregate mean for each column in the subset of the Iris dataset with the label that was chosen.  \n",
    "\n",
    "The first cell will display the Widget, the second display will add a call-back to trigger when the button happens.  The main issue with this workflow is that if something goes wrong in the call-back function, or if you want to do more introspection / manipulation of the dataframe that `get_data(label)` returns, it's difficult."
   ]
  },
  {
   "cell_type": "code",
   "execution_count": 3,
   "metadata": {},
   "outputs": [
    {
     "data": {
      "application/vnd.jupyter.widget-view+json": {
       "model_id": "1cfebce648044ec1b64b445cca3e6428",
       "version_major": 2,
       "version_minor": 0
      },
      "text/plain": [
       "VBox(children=(Dropdown(description='Iris type:', options=('setosa', 'versicolor', 'virginica'), value='setosa…"
      ]
     },
     "metadata": {},
     "output_type": "display_data"
    },
    {
     "name": "stdout",
     "output_type": "stream",
     "text": [
      "Running\n",
      "versicolor\n",
      "sepal length (cm)    5.936\n",
      "sepal width (cm)     2.770\n",
      "petal length (cm)    4.260\n",
      "petal width (cm)     1.326\n",
      "dtype: float64\n",
      "\n"
     ]
    }
   ],
   "source": [
    "from demo_utils import MyForm\n",
    "form = MyForm() # access query button as form.button, dropdown as form.selection\n",
    "form.display()"
   ]
  },
  {
   "cell_type": "code",
   "execution_count": 4,
   "metadata": {},
   "outputs": [],
   "source": [
    "from demo_utils import get_data\n",
    "\n",
    "def handler(ev):\n",
    "    print(\"Running\")\n",
    "    form.button.disabled = True\n",
    "    form.button.button_style = 'info'\n",
    "    label = form.selection.value\n",
    "    df = get_data(label)\n",
    "    print(label)\n",
    "    print(df.aggregate('mean'))\n",
    "    print('')\n",
    "    form.button.disabled = False\n",
    "    form.button.button_style = 'success'\n",
    "    \n",
    "form.button.on_click(handler)"
   ]
  },
  {
   "cell_type": "code",
   "execution_count": 4,
   "metadata": {},
   "outputs": [
    {
     "ename": "NameError",
     "evalue": "name 'df' is not defined",
     "output_type": "error",
     "traceback": [
      "\u001b[1;31m---------------------------------------------------------------------------\u001b[0m",
      "\u001b[1;31mNameError\u001b[0m                                 Traceback (most recent call last)",
      "\u001b[1;32m<ipython-input-4-00cf07b74dcd>\u001b[0m in \u001b[0;36m<module>\u001b[1;34m()\u001b[0m\n\u001b[1;32m----> 1\u001b[1;33m \u001b[0mdf\u001b[0m\u001b[1;33m\u001b[0m\u001b[0m\n\u001b[0m",
      "\u001b[1;31mNameError\u001b[0m: name 'df' is not defined"
     ]
    }
   ],
   "source": [
    "df"
   ]
  },
  {
   "cell_type": "code",
   "execution_count": null,
   "metadata": {},
   "outputs": [],
   "source": []
  }
 ],
 "metadata": {
  "kernelspec": {
   "display_name": "Python 3",
   "language": "python",
   "name": "python3"
  },
  "language_info": {
   "codemirror_mode": {
    "name": "ipython",
    "version": 3
   },
   "file_extension": ".py",
   "mimetype": "text/x-python",
   "name": "python",
   "nbconvert_exporter": "python",
   "pygments_lexer": "ipython3",
   "version": "3.6.6"
  }
 },
 "nbformat": 4,
 "nbformat_minor": 2
}
