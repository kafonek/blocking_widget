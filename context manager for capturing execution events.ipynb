{
 "cells": [
  {
   "cell_type": "code",
   "execution_count": 1,
   "metadata": {},
   "outputs": [],
   "source": [
    "### Run this notebook using cell -> run all\n",
    "### Demo of one solution to 'blocking' until a widget value has changed"
   ]
  },
  {
   "cell_type": "code",
   "execution_count": 11,
   "metadata": {},
   "outputs": [],
   "source": [
    "import time\n",
    "import sys\n",
    "\n",
    "class CaptureExecution:\n",
    "    \"A context manager to capture cell execution events then replay them after exiting the manager\"\n",
    "    def __init__(self):\n",
    "        self.captured_events = []\n",
    "        self.shell = get_ipython()\n",
    "        self.kernel = self.shell.kernel\n",
    "        \n",
    "    def step(self):\n",
    "        \"Call the kernel loop sort of manually to read messages (cell execution/widget updates)\"\n",
    "        self.kernel.do_one_iteration() # same thing an eventloop like %gui asyncio would do\n",
    "        #time.sleep(.01)\n",
    "    \n",
    "    def capture_event(self, stream, ident, parent):\n",
    "        self.captured_events.append((stream, ident, parent))\n",
    "\n",
    "    def start_capturing(self):\n",
    "        \"Overwrite the kernel shell handlers\"\n",
    "        self.kernel.shell_handlers['execute_request'] = self.capture_event\n",
    "\n",
    "    def stop_capturing(self):\n",
    "        \"rever the kernel shell handler functions to their defaults\"\n",
    "        self.kernel.shell_handlers['execute_request'] = self.kernel.execute_request\n",
    "    \n",
    "    def replay_captured_events(self):\n",
    "        sys.stdout.flush() # without flush here then output goes into the wrong cell\n",
    "        for stream, ident, parent in self.captured_events:\n",
    "            self.kernel.set_parent(ident, parent)\n",
    "            self.kernel.execute_request(stream, ident, parent)\n",
    "        self.captured_events = []\n",
    "    \n",
    "    def __enter__(self):\n",
    "        self.start_capturing()\n",
    "        self.shell.execution_count += 1 # increment execution count to avoid database collision error\n",
    "        \n",
    "    def __exit__(self, *args):\n",
    "        self.stop_capturing()\n",
    "        self.replay_captured_events()\n",
    "\n",
    "        \n",
    "def capture_requests(widget=None, break_func=None):\n",
    "    \"\"\"\n",
    "    A function to capture execution requests.  \n",
    "    It manages the CaptureExecution context manager, just tell it when to break\n",
    "      param: widget -- context manager will exit whenever the widget value changes\n",
    "      param: break_func -- context manager will exit when the break_func returns True\n",
    "    \"\"\"\n",
    "    if widget is None and break_func is None:\n",
    "        raise Exception(\"need to pass in a widget to watch to change or a break function to run\")\n",
    "    ctx = CaptureExecution()\n",
    "    with ctx:\n",
    "        while True:\n",
    "            if widget is not None:\n",
    "                if widget.value:\n",
    "                    break\n",
    "            else:\n",
    "                if break_func():\n",
    "                    break\n",
    "            ctx.step()"
   ]
  },
  {
   "cell_type": "code",
   "execution_count": 15,
   "metadata": {},
   "outputs": [
    {
     "data": {
      "application/vnd.jupyter.widget-view+json": {
       "model_id": "f223d16214e9442282099a00a992aa53",
       "version_major": 2,
       "version_minor": 0
      },
      "text/plain": [
       "Dropdown(options=('', 'foo', 'bar'), value='')"
      ]
     },
     "metadata": {},
     "output_type": "display_data"
    }
   ],
   "source": [
    "import ipywidgets as widgets\n",
    "\n",
    "w = widgets.Dropdown(options=['', 'foo', 'bar'])\n",
    "    \n",
    "display(w)\n",
    "\n",
    "capture_requests(w)"
   ]
  },
  {
   "cell_type": "code",
   "execution_count": 13,
   "metadata": {},
   "outputs": [
    {
     "name": "stdout",
     "output_type": "stream",
     "text": [
      "foo\n"
     ]
    }
   ],
   "source": [
    "print(w.value)"
   ]
  },
  {
   "cell_type": "code",
   "execution_count": 14,
   "metadata": {},
   "outputs": [
    {
     "name": "stdout",
     "output_type": "stream",
     "text": [
      "hello world\n"
     ]
    }
   ],
   "source": [
    "# this should get captured in a cell -> run all \n",
    "print(\"hello world\")"
   ]
  },
  {
   "cell_type": "code",
   "execution_count": 7,
   "metadata": {},
   "outputs": [
    {
     "data": {
      "application/vnd.jupyter.widget-view+json": {
       "model_id": "7310592a21d44a1d9d769e6094595077",
       "version_major": 2,
       "version_minor": 0
      },
      "text/plain": [
       "Dropdown(options=('', 'foo', 'bar'), value='')"
      ]
     },
     "metadata": {},
     "output_type": "display_data"
    }
   ],
   "source": [
    "w2 = widgets.Dropdown(options=['', 'foo', 'bar'])\n",
    "display(w2)\n",
    "\n",
    "\n",
    "def f():\n",
    "    return w2.value == 'bar'\n",
    "\n",
    "capture_requests(break_func=f)\n"
   ]
  },
  {
   "cell_type": "code",
   "execution_count": 8,
   "metadata": {},
   "outputs": [
    {
     "name": "stdout",
     "output_type": "stream",
     "text": [
      "bar\n"
     ]
    }
   ],
   "source": [
    "print(w2.value)"
   ]
  },
  {
   "cell_type": "code",
   "execution_count": 10,
   "metadata": {},
   "outputs": [
    {
     "name": "stderr",
     "output_type": "stream",
     "text": [
      "UsageError: Cell magic `%%while` not found.\n"
     ]
    }
   ],
   "source": [
    "%%while"
   ]
  },
  {
   "cell_type": "code",
   "execution_count": null,
   "metadata": {},
   "outputs": [],
   "source": []
  }
 ],
 "metadata": {
  "kernelspec": {
   "display_name": "Python 3",
   "language": "python",
   "name": "python3"
  },
  "language_info": {
   "codemirror_mode": {
    "name": "ipython",
    "version": 3
   },
   "file_extension": ".py",
   "mimetype": "text/x-python",
   "name": "python",
   "nbconvert_exporter": "python",
   "pygments_lexer": "ipython3",
   "version": "3.6.6"
  }
 },
 "nbformat": 4,
 "nbformat_minor": 2
}
